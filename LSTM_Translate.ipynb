{
  "nbformat": 4,
  "nbformat_minor": 0,
  "metadata": {
    "colab": {
      "name": "LSTM_Translate.ipynb",
      "provenance": [],
      "collapsed_sections": [],
      "include_colab_link": true
    },
    "kernelspec": {
      "name": "python3",
      "display_name": "Python 3"
    },
    "accelerator": "GPU"
  },
  "cells": [
    {
      "cell_type": "markdown",
      "metadata": {
        "id": "view-in-github",
        "colab_type": "text"
      },
      "source": [
        "<a href=\"https://colab.research.google.com/github/ivangd97/englishToFrenchTranslatorLSTM/blob/master/LSTM_Translate.ipynb\" target=\"_parent\"><img src=\"https://colab.research.google.com/assets/colab-badge.svg\" alt=\"Open In Colab\"/></a>"
      ]
    },
    {
      "cell_type": "code",
      "metadata": {
        "id": "AT7h6SpTOjls",
        "colab_type": "code",
        "colab": {}
      },
      "source": [
        "# Install the PyDrive wrapper & import libraries.\n",
        "# This only needs to be done once per notebook.\n",
        "!pip install -U -q PyDrive\n",
        "from pydrive.auth import GoogleAuth\n",
        "from pydrive.drive import GoogleDrive\n",
        "from google.colab import auth\n",
        "from oauth2client.client import GoogleCredentials\n",
        "import numpy as np\n",
        "\n",
        "# Authenticate and create the PyDrive client.\n",
        "# This only needs to be done once per notebook.\n",
        "auth.authenticate_user()\n",
        "gauth = GoogleAuth()\n",
        "gauth.credentials = GoogleCredentials.get_application_default()\n",
        "drive = GoogleDrive(gauth)"
      ],
      "execution_count": 0,
      "outputs": []
    },
    {
      "cell_type": "code",
      "metadata": {
        "id": "iOGOacZKfCw4",
        "colab_type": "code",
        "colab": {}
      },
      "source": [
        "import collections\n",
        "\n",
        "import helper\n",
        "import numpy as np\n",
        "\n",
        "\n",
        "from keras.preprocessing.text import Tokenizer\n",
        "from keras.preprocessing.sequence import pad_sequences\n",
        "from keras.models import Model, Sequential\n",
        "from keras.layers import GRU, Input, Dense, TimeDistributed, Activation, RepeatVector, Bidirectional, Dropout\n",
        "from keras.layers.embeddings import Embedding\n",
        "from keras.optimizers import Adam\n",
        "from keras.losses import sparse_categorical_crossentropy"
      ],
      "execution_count": 0,
      "outputs": []
    },
    {
      "cell_type": "code",
      "metadata": {
        "id": "1yX3S8WTPX-J",
        "colab_type": "code",
        "outputId": "f1f3a2b7-220f-4092-cd38-868b37abb74d",
        "colab": {
          "base_uri": "https://localhost:8080/",
          "height": 555
        }
      },
      "source": [
        "from tensorflow.python.client import device_lib\n",
        "print(device_lib.list_local_devices())"
      ],
      "execution_count": 16,
      "outputs": [
        {
          "output_type": "stream",
          "text": [
            "[name: \"/device:CPU:0\"\n",
            "device_type: \"CPU\"\n",
            "memory_limit: 268435456\n",
            "locality {\n",
            "}\n",
            "incarnation: 6941505193293344568\n",
            ", name: \"/device:XLA_CPU:0\"\n",
            "device_type: \"XLA_CPU\"\n",
            "memory_limit: 17179869184\n",
            "locality {\n",
            "}\n",
            "incarnation: 16775184024693274891\n",
            "physical_device_desc: \"device: XLA_CPU device\"\n",
            ", name: \"/device:XLA_GPU:0\"\n",
            "device_type: \"XLA_GPU\"\n",
            "memory_limit: 17179869184\n",
            "locality {\n",
            "}\n",
            "incarnation: 1070979409812975863\n",
            "physical_device_desc: \"device: XLA_GPU device\"\n",
            ", name: \"/device:GPU:0\"\n",
            "device_type: \"GPU\"\n",
            "memory_limit: 15956161332\n",
            "locality {\n",
            "  bus_id: 1\n",
            "  links {\n",
            "  }\n",
            "}\n",
            "incarnation: 15132563382935361212\n",
            "physical_device_desc: \"device: 0, name: Tesla P100-PCIE-16GB, pci bus id: 0000:00:04.0, compute capability: 6.0\"\n",
            "]\n"
          ],
          "name": "stdout"
        }
      ]
    },
    {
      "cell_type": "code",
      "metadata": {
        "id": "FpATVN9gYWZn",
        "colab_type": "code",
        "colab": {}
      },
      "source": [
        "def load_data(file_name):\n",
        "  file_list = drive.ListFile({'q': \"'162MC5jofogq8VjFufnkWvFeR5TdTdO4S' in parents\"}).GetList()\n",
        "\n",
        "  for f in file_list:\n",
        "    if f['title'] == file_name:\n",
        "      file_id = f['id']\n",
        "      downloaded = drive.CreateFile({'id': file_id})\n",
        "      return downloaded.GetContentString().split('\\n')"
      ],
      "execution_count": 0,
      "outputs": []
    },
    {
      "cell_type": "code",
      "metadata": {
        "id": "BBstiq5LcPwD",
        "colab_type": "code",
        "colab": {}
      },
      "source": [
        "english_sentences = load_data('small_vocab_en')\n",
        "french_sentences = load_data('small_vocab_fr')"
      ],
      "execution_count": 0,
      "outputs": []
    },
    {
      "cell_type": "code",
      "metadata": {
        "id": "f69-dJLDcniV",
        "colab_type": "code",
        "outputId": "1b025333-d9ca-4324-bbfc-64481128b6c1",
        "colab": {
          "base_uri": "https://localhost:8080/",
          "height": 173
        }
      },
      "source": [
        "from collections import Counter\n",
        "\n",
        "english_words = [word for sentence in english_sentences for word in sentence.split()]\n",
        "french_words = [word for sentence in french_sentences for word in sentence.split()]\n",
        "\n",
        "print('How many English words? {}'.format(len(english_words)))\n",
        "print('How many unique English words? {}'.format(len(Counter(english_words))))\n",
        "print('10 Most common words in the English dataset:')\n",
        "print('\"' + '\" \"'.join(list(zip(*Counter(english_words).most_common(10)))[0]) + '\"')\n",
        "print()\n",
        "print('How many French words? {}'.format(len(french_words)))\n",
        "print('How many unique French words? {}'.format(len(Counter(french_words))))\n",
        "print('10 Most common words in the French dataset:')\n",
        "print('\"' + '\" \"'.join(list(zip(*Counter(french_words).most_common(10)))[0]) + '\"')"
      ],
      "execution_count": 19,
      "outputs": [
        {
          "output_type": "stream",
          "text": [
            "How many English words? 1823250\n",
            "How many unique English words? 227\n",
            "10 Most common words in the English dataset:\n",
            "\"is\" \",\" \".\" \"in\" \"it\" \"during\" \"the\" \"but\" \"and\" \"sometimes\"\n",
            "\n",
            "How many French words? 1961295\n",
            "How many unique French words? 355\n",
            "10 Most common words in the French dataset:\n",
            "\"est\" \".\" \",\" \"en\" \"il\" \"les\" \"mais\" \"et\" \"la\" \"parfois\"\n"
          ],
          "name": "stdout"
        }
      ]
    },
    {
      "cell_type": "code",
      "metadata": {
        "id": "PxczusVJc4cV",
        "colab_type": "code",
        "outputId": "919516d1-dff6-46a9-cb39-60bfdba11757",
        "colab": {
          "base_uri": "https://localhost:8080/",
          "height": 228
        }
      },
      "source": [
        "from keras.preprocessing.text import Tokenizer\n",
        "\n",
        "def tokenize(sentences):\n",
        "  \"\"\"\n",
        "  return: Tuple (tokenized sentences, tokenizer used)\n",
        "  \"\"\"\n",
        "  tokenizer = Tokenizer()\n",
        "  tokenizer.fit_on_texts(sentences)\n",
        "  return tokenizer.texts_to_sequences(sentences), tokenizer\n",
        "\n",
        "# Tokenize Example output\n",
        "text_sentences = [\n",
        "    'The quick brown fox jumps over the lazy dog .',\n",
        "    'By Jove , my quick study of lexicography won a prize .',\n",
        "    'This is a short sentence .']\n",
        "text_tokenized, text_tokenizer = tokenize(text_sentences)\n",
        "print(text_tokenizer.word_index)\n",
        "print()\n",
        "for sample_i, (sent, token_sent) in enumerate(zip(text_sentences, text_tokenized)):\n",
        "    print('Sequence {} in x'.format(sample_i + 1))\n",
        "    print('  Input:  {}'.format(sent))\n",
        "    print('  Output: {}'.format(token_sent))"
      ],
      "execution_count": 20,
      "outputs": [
        {
          "output_type": "stream",
          "text": [
            "{'the': 1, 'quick': 2, 'a': 3, 'brown': 4, 'fox': 5, 'jumps': 6, 'over': 7, 'lazy': 8, 'dog': 9, 'by': 10, 'jove': 11, 'my': 12, 'study': 13, 'of': 14, 'lexicography': 15, 'won': 16, 'prize': 17, 'this': 18, 'is': 19, 'short': 20, 'sentence': 21}\n",
            "\n",
            "Sequence 1 in x\n",
            "  Input:  The quick brown fox jumps over the lazy dog .\n",
            "  Output: [1, 2, 4, 5, 6, 7, 1, 8, 9]\n",
            "Sequence 2 in x\n",
            "  Input:  By Jove , my quick study of lexicography won a prize .\n",
            "  Output: [10, 11, 12, 2, 13, 14, 15, 16, 3, 17]\n",
            "Sequence 3 in x\n",
            "  Input:  This is a short sentence .\n",
            "  Output: [18, 19, 3, 20, 21]\n"
          ],
          "name": "stdout"
        }
      ]
    },
    {
      "cell_type": "code",
      "metadata": {
        "id": "-cf21RBGdSLc",
        "colab_type": "code",
        "outputId": "43c73bbf-49b6-485f-e27a-e3747272c21c",
        "colab": {
          "base_uri": "https://localhost:8080/",
          "height": 173
        }
      },
      "source": [
        "from keras.preprocessing.sequence import pad_sequences\n",
        "\n",
        "def pad(x, length=None):\n",
        "    return pad_sequences(x, maxlen=length, padding='post')\n",
        "\n",
        "test_pad = pad(text_tokenized)\n",
        "for sample_i, (token_sent, pad_sent) in enumerate(zip(text_tokenized, test_pad)):\n",
        "    print('Sequence {} in x'.format(sample_i + 1))\n",
        "    print('  Input:  {} in length of {}'.format(np.array(token_sent), len(token_sent)))\n",
        "    print('  Output: {}'.format(pad_sent))"
      ],
      "execution_count": 21,
      "outputs": [
        {
          "output_type": "stream",
          "text": [
            "Sequence 1 in x\n",
            "  Input:  [1 2 4 5 6 7 1 8 9] in length of 9\n",
            "  Output: [1 2 4 5 6 7 1 8 9 0]\n",
            "Sequence 2 in x\n",
            "  Input:  [10 11 12  2 13 14 15 16  3 17] in length of 10\n",
            "  Output: [10 11 12  2 13 14 15 16  3 17]\n",
            "Sequence 3 in x\n",
            "  Input:  [18 19  3 20 21] in length of 5\n",
            "  Output: [18 19  3 20 21  0  0  0  0  0]\n"
          ],
          "name": "stdout"
        }
      ]
    },
    {
      "cell_type": "code",
      "metadata": {
        "id": "xGZjtZzrfEzo",
        "colab_type": "code",
        "outputId": "4cdbfddc-4722-4577-b79a-19a274ce0feb",
        "colab": {
          "base_uri": "https://localhost:8080/",
          "height": 104
        }
      },
      "source": [
        "def preprocess(x, y):\n",
        "    \"\"\"\n",
        "    Preprocess x and y\n",
        "    :param x: Feature List of sentences\n",
        "    :param y: Label List of sentences\n",
        "    :return: Tuple of (Preprocessed x, Preprocessed y, x tokenizer, y tokenizer)\n",
        "    \"\"\"\n",
        "    preprocess_x, x_tk = tokenize(x)\n",
        "    preprocess_y, y_tk = tokenize(y)\n",
        "\n",
        "    preprocess_x = pad(preprocess_x)\n",
        "    preprocess_y = pad(preprocess_y)\n",
        "\n",
        "    # Keras's sparse_categorical_crossentropy function requires the labels to be in 3 dimensions\n",
        "    preprocess_y = preprocess_y.reshape(*preprocess_y.shape, 1)\n",
        "\n",
        "    return preprocess_x, preprocess_y, x_tk, y_tk\n",
        "\n",
        "preproc_english_sentences, preproc_french_sentences, english_tokenizer, french_tokenizer =\\\n",
        "    preprocess(english_sentences, french_sentences)\n",
        "    \n",
        "max_english_sequence_length = preproc_english_sentences.shape[1]\n",
        "max_french_sequence_length = preproc_french_sentences.shape[1]\n",
        "english_vocab_size = len(english_tokenizer.word_index)\n",
        "french_vocab_size = len(french_tokenizer.word_index)\n",
        "\n",
        "print('Data Preprocessed')\n",
        "print(\"Max English sentence length:\", max_english_sequence_length)\n",
        "print(\"Max French sentence length:\", max_french_sequence_length)\n",
        "print(\"English vocabulary size:\", english_vocab_size)\n",
        "print(\"French vocabulary size:\", french_vocab_size)"
      ],
      "execution_count": 22,
      "outputs": [
        {
          "output_type": "stream",
          "text": [
            "Data Preprocessed\n",
            "Max English sentence length: 15\n",
            "Max French sentence length: 21\n",
            "English vocabulary size: 199\n",
            "French vocabulary size: 344\n"
          ],
          "name": "stdout"
        }
      ]
    },
    {
      "cell_type": "code",
      "metadata": {
        "id": "350Xvvh3gs2s",
        "colab_type": "code",
        "outputId": "f5e162bb-c63d-4ab7-ceda-c5d3ba094236",
        "colab": {
          "base_uri": "https://localhost:8080/",
          "height": 34
        }
      },
      "source": [
        "def logits_to_text(logits, tokenizer):\n",
        "    \"\"\"\n",
        "    Turn logits from a neural network into text using the tokenizer\n",
        "    :param logits: Logits from a neural network\n",
        "    :param tokenizer: Keras Tokenizer fit on the labels\n",
        "    :return: String that represents the text of the logits\n",
        "    \"\"\"\n",
        "    index_to_words = {id: word for word, id in tokenizer.word_index.items()}\n",
        "    index_to_words[0] = '<PAD>'\n",
        "\n",
        "    return ' '.join([index_to_words[prediction] for prediction in np.argmax(logits, 1)])\n",
        "\n",
        "print('`logits_to_text` function loaded.')"
      ],
      "execution_count": 23,
      "outputs": [
        {
          "output_type": "stream",
          "text": [
            "`logits_to_text` function loaded.\n"
          ],
          "name": "stdout"
        }
      ]
    },
    {
      "cell_type": "code",
      "metadata": {
        "id": "UjB7fzcpfTU_",
        "colab_type": "code",
        "outputId": "ca0027c0-81f9-4e5c-9971-eb17da619659",
        "colab": {
          "base_uri": "https://localhost:8080/",
          "height": 1000
        }
      },
      "source": [
        "import warnings; warnings.simplefilter('ignore')\n",
        "def simple_model(input_shape, output_sequence_length, english_vocab_size, french_vocab_size):\n",
        "    \"\"\"\n",
        "    Build and train a basic RNN on x and y\n",
        "    :param input_shape: Tuple of input shape\n",
        "    :param output_sequence_length: Length of output sequence\n",
        "    :param english_vocab_size: Number of unique English words in the dataset\n",
        "    :param french_vocab_size: Number of unique French words in the dataset\n",
        "    :return: Keras model built, but not trained\n",
        "    \"\"\"\n",
        "    # Build the layers\n",
        "    learning_rate = 1e-3\n",
        "    \n",
        "    input_seq = Input(input_shape[1:])\n",
        "    rnn = GRU(64, return_sequences=True)(input_seq)\n",
        "    rnn = Dropout(0.15)(rnn)\n",
        "    rnn = GRU(128, return_sequences=True)(rnn)\n",
        "    rnn = Dropout(0.17)(rnn)\n",
        "    rnn = GRU(128, return_sequences=True)(rnn)\n",
        "    logits = TimeDistributed(Dense(french_vocab_size, activation='softmax'))(rnn)\n",
        "    \n",
        "    model = Model(inputs=input_seq, outputs=logits)\n",
        "    model.compile(loss=sparse_categorical_crossentropy,\n",
        "                  optimizer=Adam(learning_rate),\n",
        "                  metrics=['accuracy'])\n",
        "    return model\n",
        "\n",
        "\n",
        "# Reshaping the input to work with a basic RNN\n",
        "tmp_x = pad(preproc_english_sentences, max_french_sequence_length)\n",
        "tmp_x = tmp_x.reshape((-1, preproc_french_sentences.shape[-2], 1))\n",
        "\n",
        "# Train the neural network\n",
        "simple_rnn_model = simple_model(\n",
        "    tmp_x.shape,\n",
        "    max_french_sequence_length,\n",
        "    english_vocab_size,\n",
        "    french_vocab_size)\n",
        "simple_rnn_model.fit(tmp_x, preproc_french_sentences, batch_size = 500, epochs = 100, validation_split = 0.2)\n",
        "\n",
        "# Print prediction(s)\n",
        "print(logits_to_text(simple_rnn_model.predict(tmp_x[:1])[0], french_tokenizer))"
      ],
      "execution_count": 24,
      "outputs": [
        {
          "output_type": "stream",
          "text": [
            "Train on 110288 samples, validate on 27573 samples\n",
            "Epoch 1/100\n",
            "110288/110288 [==============================] - 21s 194us/step - loss: 2.5768 - acc: 0.4757 - val_loss: nan - val_acc: 0.5559\n",
            "Epoch 2/100\n",
            "110288/110288 [==============================] - 19s 173us/step - loss: 1.6704 - acc: 0.5830 - val_loss: nan - val_acc: 0.6080\n",
            "Epoch 3/100\n",
            "110288/110288 [==============================] - 19s 171us/step - loss: 1.3828 - acc: 0.6150 - val_loss: nan - val_acc: 0.6327\n",
            "Epoch 4/100\n",
            "110288/110288 [==============================] - 19s 174us/step - loss: 1.2318 - acc: 0.6410 - val_loss: nan - val_acc: 0.6600\n",
            "Epoch 5/100\n",
            "110288/110288 [==============================] - 19s 172us/step - loss: 1.1289 - acc: 0.6604 - val_loss: nan - val_acc: 0.6862\n",
            "Epoch 6/100\n",
            "110288/110288 [==============================] - 19s 170us/step - loss: 1.0580 - acc: 0.6744 - val_loss: nan - val_acc: 0.6987\n",
            "Epoch 7/100\n",
            "110288/110288 [==============================] - 19s 171us/step - loss: 1.0000 - acc: 0.6875 - val_loss: nan - val_acc: 0.7221\n",
            "Epoch 8/100\n",
            "110288/110288 [==============================] - 19s 172us/step - loss: 0.9452 - acc: 0.7027 - val_loss: nan - val_acc: 0.7322\n",
            "Epoch 9/100\n",
            "110288/110288 [==============================] - 19s 173us/step - loss: 0.9062 - acc: 0.7116 - val_loss: nan - val_acc: 0.7426\n",
            "Epoch 10/100\n",
            "110288/110288 [==============================] - 19s 171us/step - loss: 0.8728 - acc: 0.7194 - val_loss: nan - val_acc: 0.7411\n",
            "Epoch 11/100\n",
            "110288/110288 [==============================] - 20s 177us/step - loss: 0.8456 - acc: 0.7262 - val_loss: nan - val_acc: 0.7499\n",
            "Epoch 12/100\n",
            "110288/110288 [==============================] - 19s 172us/step - loss: 0.8191 - acc: 0.7332 - val_loss: nan - val_acc: 0.7573\n",
            "Epoch 13/100\n",
            "110288/110288 [==============================] - 19s 173us/step - loss: 0.7985 - acc: 0.7384 - val_loss: nan - val_acc: 0.7694\n",
            "Epoch 14/100\n",
            "110288/110288 [==============================] - 19s 172us/step - loss: 0.7788 - acc: 0.7441 - val_loss: nan - val_acc: 0.7686\n",
            "Epoch 15/100\n",
            "110288/110288 [==============================] - 19s 169us/step - loss: 0.7639 - acc: 0.7477 - val_loss: nan - val_acc: 0.7712\n",
            "Epoch 16/100\n",
            "110288/110288 [==============================] - 19s 170us/step - loss: 0.7456 - acc: 0.7537 - val_loss: nan - val_acc: 0.7796\n",
            "Epoch 17/100\n",
            "110288/110288 [==============================] - 19s 171us/step - loss: 0.7328 - acc: 0.7570 - val_loss: nan - val_acc: 0.7733\n",
            "Epoch 18/100\n",
            "110288/110288 [==============================] - 19s 170us/step - loss: 0.7224 - acc: 0.7601 - val_loss: nan - val_acc: 0.7939\n",
            "Epoch 19/100\n",
            "110288/110288 [==============================] - 19s 170us/step - loss: 0.7078 - acc: 0.7642 - val_loss: nan - val_acc: 0.7879\n",
            "Epoch 20/100\n",
            "110288/110288 [==============================] - 19s 170us/step - loss: 0.6991 - acc: 0.7669 - val_loss: nan - val_acc: 0.7967\n",
            "Epoch 21/100\n",
            "110288/110288 [==============================] - 19s 170us/step - loss: 0.6885 - acc: 0.7699 - val_loss: nan - val_acc: 0.8040\n",
            "Epoch 22/100\n",
            "110288/110288 [==============================] - 19s 170us/step - loss: 0.6753 - acc: 0.7739 - val_loss: nan - val_acc: 0.8012\n",
            "Epoch 23/100\n",
            "110288/110288 [==============================] - 19s 169us/step - loss: 0.6705 - acc: 0.7747 - val_loss: nan - val_acc: 0.8077\n",
            "Epoch 24/100\n",
            "110288/110288 [==============================] - 19s 172us/step - loss: 0.6600 - acc: 0.7779 - val_loss: nan - val_acc: 0.8125\n",
            "Epoch 25/100\n",
            "110288/110288 [==============================] - 19s 173us/step - loss: 0.6489 - acc: 0.7814 - val_loss: nan - val_acc: 0.8126\n",
            "Epoch 26/100\n",
            "110288/110288 [==============================] - 19s 170us/step - loss: 0.6414 - acc: 0.7833 - val_loss: nan - val_acc: 0.8134\n",
            "Epoch 27/100\n",
            "110288/110288 [==============================] - 19s 173us/step - loss: 0.6324 - acc: 0.7860 - val_loss: nan - val_acc: 0.8194\n",
            "Epoch 28/100\n",
            "110288/110288 [==============================] - 19s 170us/step - loss: 0.6283 - acc: 0.7868 - val_loss: nan - val_acc: 0.8234\n",
            "Epoch 29/100\n",
            "110288/110288 [==============================] - 18s 165us/step - loss: 0.6196 - acc: 0.7890 - val_loss: nan - val_acc: 0.8227\n",
            "Epoch 30/100\n",
            "110288/110288 [==============================] - 18s 167us/step - loss: 0.6143 - acc: 0.7905 - val_loss: nan - val_acc: 0.8231\n",
            "Epoch 31/100\n",
            "110288/110288 [==============================] - 18s 167us/step - loss: 0.6093 - acc: 0.7919 - val_loss: nan - val_acc: 0.8256\n",
            "Epoch 32/100\n",
            "110288/110288 [==============================] - 19s 168us/step - loss: 0.6065 - acc: 0.7924 - val_loss: nan - val_acc: 0.8240\n",
            "Epoch 33/100\n",
            "110288/110288 [==============================] - 19s 168us/step - loss: 0.5935 - acc: 0.7967 - val_loss: nan - val_acc: 0.8307\n",
            "Epoch 34/100\n",
            "110288/110288 [==============================] - 18s 168us/step - loss: 0.5961 - acc: 0.7952 - val_loss: nan - val_acc: 0.8321\n",
            "Epoch 35/100\n",
            "110288/110288 [==============================] - 19s 168us/step - loss: 0.5822 - acc: 0.7998 - val_loss: nan - val_acc: 0.8345\n",
            "Epoch 36/100\n",
            "110288/110288 [==============================] - 18s 168us/step - loss: 0.5819 - acc: 0.7997 - val_loss: nan - val_acc: 0.8351\n",
            "Epoch 37/100\n",
            "110288/110288 [==============================] - 18s 166us/step - loss: 0.5784 - acc: 0.8005 - val_loss: nan - val_acc: 0.8259\n",
            "Epoch 38/100\n",
            "110288/110288 [==============================] - 18s 167us/step - loss: 0.5762 - acc: 0.8011 - val_loss: nan - val_acc: 0.8364\n",
            "Epoch 39/100\n",
            "110288/110288 [==============================] - 19s 168us/step - loss: 0.5622 - acc: 0.8057 - val_loss: nan - val_acc: 0.8386\n",
            "Epoch 40/100\n",
            "110288/110288 [==============================] - 19s 170us/step - loss: 0.5575 - acc: 0.8072 - val_loss: nan - val_acc: 0.8243\n",
            "Epoch 41/100\n",
            "110288/110288 [==============================] - 18s 166us/step - loss: 0.5571 - acc: 0.8069 - val_loss: nan - val_acc: 0.8399\n",
            "Epoch 42/100\n",
            "110288/110288 [==============================] - 18s 166us/step - loss: 0.5594 - acc: 0.8062 - val_loss: nan - val_acc: 0.8441\n",
            "Epoch 43/100\n",
            "110288/110288 [==============================] - 19s 170us/step - loss: 0.5498 - acc: 0.8093 - val_loss: nan - val_acc: 0.8448\n",
            "Epoch 44/100\n",
            "110288/110288 [==============================] - 19s 171us/step - loss: 0.5476 - acc: 0.8095 - val_loss: nan - val_acc: 0.8440\n",
            "Epoch 45/100\n",
            "110288/110288 [==============================] - 19s 169us/step - loss: 0.5365 - acc: 0.8135 - val_loss: nan - val_acc: 0.8404\n",
            "Epoch 46/100\n",
            "110288/110288 [==============================] - 19s 169us/step - loss: 0.5459 - acc: 0.8099 - val_loss: nan - val_acc: 0.8472\n",
            "Epoch 47/100\n",
            "110288/110288 [==============================] - 18s 165us/step - loss: 0.5316 - acc: 0.8152 - val_loss: nan - val_acc: 0.8362\n",
            "Epoch 48/100\n",
            "110288/110288 [==============================] - 19s 169us/step - loss: 0.5363 - acc: 0.8134 - val_loss: nan - val_acc: 0.8465\n",
            "Epoch 49/100\n",
            "110288/110288 [==============================] - 19s 169us/step - loss: 0.5216 - acc: 0.8185 - val_loss: nan - val_acc: 0.8451\n",
            "Epoch 50/100\n",
            "110288/110288 [==============================] - 19s 168us/step - loss: 0.5460 - acc: 0.8106 - val_loss: nan - val_acc: 0.8367\n",
            "Epoch 51/100\n",
            "110288/110288 [==============================] - 19s 170us/step - loss: 0.5227 - acc: 0.8180 - val_loss: nan - val_acc: 0.8416\n",
            "Epoch 52/100\n",
            "110288/110288 [==============================] - 19s 168us/step - loss: 0.5244 - acc: 0.8178 - val_loss: nan - val_acc: 0.8471\n",
            "Epoch 53/100\n",
            "110288/110288 [==============================] - 19s 169us/step - loss: 0.5152 - acc: 0.8204 - val_loss: nan - val_acc: 0.8515\n",
            "Epoch 54/100\n",
            "110288/110288 [==============================] - 18s 167us/step - loss: 0.5237 - acc: 0.8172 - val_loss: nan - val_acc: 0.8516\n",
            "Epoch 55/100\n",
            "110288/110288 [==============================] - 18s 167us/step - loss: 0.5035 - acc: 0.8245 - val_loss: nan - val_acc: 0.8533\n",
            "Epoch 56/100\n",
            "110288/110288 [==============================] - 19s 171us/step - loss: 0.5148 - acc: 0.8203 - val_loss: nan - val_acc: 0.8534\n",
            "Epoch 57/100\n",
            "110288/110288 [==============================] - 19s 168us/step - loss: 0.5090 - acc: 0.8223 - val_loss: nan - val_acc: 0.8554\n",
            "Epoch 58/100\n",
            "110288/110288 [==============================] - 19s 171us/step - loss: 0.5025 - acc: 0.8247 - val_loss: nan - val_acc: 0.8565\n",
            "Epoch 59/100\n",
            "110288/110288 [==============================] - 20s 178us/step - loss: 0.4962 - acc: 0.8268 - val_loss: nan - val_acc: 0.8553\n",
            "Epoch 60/100\n",
            "110288/110288 [==============================] - 20s 184us/step - loss: 0.5035 - acc: 0.8240 - val_loss: nan - val_acc: 0.8524\n",
            "Epoch 61/100\n",
            "110288/110288 [==============================] - 20s 182us/step - loss: 0.5056 - acc: 0.8231 - val_loss: nan - val_acc: 0.8573\n",
            "Epoch 62/100\n",
            "110288/110288 [==============================] - 19s 172us/step - loss: 0.4962 - acc: 0.8264 - val_loss: nan - val_acc: 0.8606\n",
            "Epoch 63/100\n",
            "110288/110288 [==============================] - 19s 173us/step - loss: 0.4982 - acc: 0.8259 - val_loss: nan - val_acc: 0.8437\n",
            "Epoch 64/100\n",
            "110288/110288 [==============================] - 19s 172us/step - loss: 0.4897 - acc: 0.8284 - val_loss: nan - val_acc: 0.8568\n",
            "Epoch 65/100\n",
            "110288/110288 [==============================] - 19s 175us/step - loss: 0.5011 - acc: 0.8244 - val_loss: nan - val_acc: 0.8592\n",
            "Epoch 66/100\n",
            "110288/110288 [==============================] - 19s 172us/step - loss: 0.4875 - acc: 0.8294 - val_loss: nan - val_acc: 0.8515\n",
            "Epoch 67/100\n",
            "110288/110288 [==============================] - 19s 173us/step - loss: 0.4857 - acc: 0.8299 - val_loss: nan - val_acc: 0.8157\n",
            "Epoch 68/100\n",
            "110288/110288 [==============================] - 19s 174us/step - loss: 0.4835 - acc: 0.8309 - val_loss: nan - val_acc: 0.8649\n",
            "Epoch 69/100\n",
            "110288/110288 [==============================] - 19s 173us/step - loss: 0.4898 - acc: 0.8288 - val_loss: nan - val_acc: 0.8642\n",
            "Epoch 70/100\n",
            "110288/110288 [==============================] - 19s 171us/step - loss: 0.4824 - acc: 0.8309 - val_loss: nan - val_acc: 0.8547\n",
            "Epoch 71/100\n",
            "110288/110288 [==============================] - 19s 174us/step - loss: 0.4758 - acc: 0.8333 - val_loss: nan - val_acc: 0.8646\n",
            "Epoch 72/100\n",
            "110288/110288 [==============================] - 19s 172us/step - loss: 0.4767 - acc: 0.8332 - val_loss: nan - val_acc: 0.8654\n",
            "Epoch 73/100\n",
            "110288/110288 [==============================] - 19s 174us/step - loss: 0.4654 - acc: 0.8373 - val_loss: nan - val_acc: 0.8613\n",
            "Epoch 74/100\n",
            "110288/110288 [==============================] - 19s 171us/step - loss: 0.4672 - acc: 0.8363 - val_loss: nan - val_acc: 0.8625\n",
            "Epoch 75/100\n",
            "110288/110288 [==============================] - 19s 173us/step - loss: 0.4838 - acc: 0.8305 - val_loss: nan - val_acc: 0.8573\n",
            "Epoch 76/100\n",
            "110288/110288 [==============================] - 19s 173us/step - loss: 0.4725 - acc: 0.8343 - val_loss: nan - val_acc: 0.8646\n",
            "Epoch 77/100\n",
            "110288/110288 [==============================] - 19s 175us/step - loss: 0.4720 - acc: 0.8346 - val_loss: nan - val_acc: 0.8658\n",
            "Epoch 78/100\n",
            "110288/110288 [==============================] - 19s 175us/step - loss: 0.4603 - acc: 0.8385 - val_loss: nan - val_acc: 0.8699\n",
            "Epoch 79/100\n",
            "110288/110288 [==============================] - 19s 170us/step - loss: 0.4656 - acc: 0.8367 - val_loss: nan - val_acc: 0.8671\n",
            "Epoch 80/100\n",
            "110288/110288 [==============================] - 19s 172us/step - loss: 0.4642 - acc: 0.8374 - val_loss: nan - val_acc: 0.8656\n",
            "Epoch 81/100\n",
            "110288/110288 [==============================] - 19s 174us/step - loss: 0.4639 - acc: 0.8370 - val_loss: nan - val_acc: 0.8600\n",
            "Epoch 82/100\n",
            "110288/110288 [==============================] - 19s 171us/step - loss: 0.4678 - acc: 0.8360 - val_loss: nan - val_acc: 0.8708\n",
            "Epoch 83/100\n",
            "110288/110288 [==============================] - 19s 172us/step - loss: 0.4635 - acc: 0.8376 - val_loss: nan - val_acc: 0.8642\n",
            "Epoch 84/100\n",
            "110288/110288 [==============================] - 19s 175us/step - loss: 0.4616 - acc: 0.8381 - val_loss: nan - val_acc: 0.8673\n",
            "Epoch 85/100\n",
            "110288/110288 [==============================] - 19s 171us/step - loss: 0.4502 - acc: 0.8423 - val_loss: nan - val_acc: 0.8656\n",
            "Epoch 86/100\n",
            "110288/110288 [==============================] - 19s 172us/step - loss: 0.4733 - acc: 0.8345 - val_loss: nan - val_acc: 0.8677\n",
            "Epoch 87/100\n",
            "110288/110288 [==============================] - 19s 173us/step - loss: 0.4477 - acc: 0.8431 - val_loss: nan - val_acc: 0.8722\n",
            "Epoch 88/100\n",
            "110288/110288 [==============================] - 19s 172us/step - loss: 0.4454 - acc: 0.8435 - val_loss: nan - val_acc: 0.8247\n",
            "Epoch 89/100\n",
            "110288/110288 [==============================] - 19s 171us/step - loss: 0.4555 - acc: 0.8402 - val_loss: nan - val_acc: 0.8575\n",
            "Epoch 90/100\n",
            "110288/110288 [==============================] - 19s 171us/step - loss: 0.4428 - acc: 0.8448 - val_loss: nan - val_acc: 0.8696\n",
            "Epoch 91/100\n",
            "110288/110288 [==============================] - 19s 170us/step - loss: 0.4465 - acc: 0.8436 - val_loss: nan - val_acc: 0.8716\n",
            "Epoch 92/100\n",
            "110288/110288 [==============================] - 19s 170us/step - loss: 0.4546 - acc: 0.8414 - val_loss: nan - val_acc: 0.8691\n",
            "Epoch 93/100\n",
            "110288/110288 [==============================] - 19s 169us/step - loss: 0.4594 - acc: 0.8392 - val_loss: nan - val_acc: 0.8557\n",
            "Epoch 94/100\n",
            "110288/110288 [==============================] - 19s 176us/step - loss: 0.4401 - acc: 0.8457 - val_loss: nan - val_acc: 0.8756\n",
            "Epoch 95/100\n",
            "110288/110288 [==============================] - 19s 168us/step - loss: 0.4475 - acc: 0.8436 - val_loss: nan - val_acc: 0.8646\n",
            "Epoch 96/100\n",
            "110288/110288 [==============================] - 19s 168us/step - loss: 0.4381 - acc: 0.8465 - val_loss: nan - val_acc: 0.8751\n",
            "Epoch 97/100\n",
            "110288/110288 [==============================] - 19s 174us/step - loss: 0.4319 - acc: 0.8489 - val_loss: nan - val_acc: 0.8677\n",
            "Epoch 98/100\n",
            "110288/110288 [==============================] - 19s 172us/step - loss: 0.4385 - acc: 0.8464 - val_loss: nan - val_acc: 0.8754\n",
            "Epoch 99/100\n",
            "110288/110288 [==============================] - 19s 173us/step - loss: 0.4377 - acc: 0.8465 - val_loss: nan - val_acc: 0.8650\n",
            "Epoch 100/100\n",
            "110288/110288 [==============================] - 19s 174us/step - loss: 0.4407 - acc: 0.8456 - val_loss: nan - val_acc: 0.8774\n",
            "new jersey est parfois chaud en l' automne et il est neigeux en avril <PAD> <PAD> <PAD> <PAD> <PAD> <PAD> <PAD>\n"
          ],
          "name": "stdout"
        }
      ]
    },
    {
      "cell_type": "code",
      "metadata": {
        "id": "13KTdy3azq5s",
        "colab_type": "code",
        "outputId": "fa1799b1-3bb8-464a-e911-ac2597aecc79",
        "colab": {
          "base_uri": "https://localhost:8080/",
          "height": 382
        }
      },
      "source": [
        "print(tmp_x[:1])"
      ],
      "execution_count": 0,
      "outputs": [
        {
          "output_type": "stream",
          "text": [
            "[[[17]\n",
            "  [23]\n",
            "  [ 1]\n",
            "  [ 8]\n",
            "  [67]\n",
            "  [ 4]\n",
            "  [39]\n",
            "  [ 7]\n",
            "  [ 3]\n",
            "  [ 1]\n",
            "  [55]\n",
            "  [ 2]\n",
            "  [44]\n",
            "  [ 0]\n",
            "  [ 0]\n",
            "  [ 0]\n",
            "  [ 0]\n",
            "  [ 0]\n",
            "  [ 0]\n",
            "  [ 0]\n",
            "  [ 0]]]\n"
          ],
          "name": "stdout"
        }
      ]
    }
  ]
}